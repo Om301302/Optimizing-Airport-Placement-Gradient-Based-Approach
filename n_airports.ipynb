{
  "cells": [
    {
      "cell_type": "code",
      "execution_count": 38,
      "metadata": {
        "colab": {
          "base_uri": "https://localhost:8080/",
          "height": 265
        },
        "id": "mt3E9f2_uH4B",
        "outputId": "4f823a14-9c77-4e40-81ba-c6197c4123bb"
      },
      "outputs": [
        {
          "output_type": "display_data",
          "data": {
            "text/plain": [
              "<Figure size 432x288 with 1 Axes>"
            ],
            "image/png": "[encoded data removed]"
          },
          "metadata": {
            "needs_background": "light"
          }
        }
      ],
      "source": [
        "# Group : om kakadiya and vraj dalsania\n",
        "\n",
        "import random\n",
        "import numpy as np\n",
        "\n",
        "num_city = 100\n",
        "num_air = 3\n",
        "num_center = 5\n",
        "sigma = 0.1\n",
        "cities = set()\n",
        "airports = []\n",
        "\n",
        "\n",
        "\n",
        "# gererating a set of 100 cities (cities' locations will not change)\n",
        "for i in range(num_center):\n",
        "    x = random.random()\n",
        "    y = random.random()\n",
        "    xc = np.random.normal(x, sigma, num_city//num_center)\n",
        "    yc = np.random.normal(y, sigma, num_city//num_center)\n",
        "    cities = cities.union(zip(xc, yc))\n",
        "\n",
        "# generating initial random locations for 3 airports\n",
        "for i in range(num_air):\n",
        "    x = random.random()\n",
        "    y = random.random()\n",
        "    airports.append((x,y)) \n",
        "\n",
        "# plotting the initial state\n",
        "import matplotlib.pyplot as plt\n",
        "\n",
        "zip_cities = zip(*cities)\n",
        "plt.scatter(*zip_cities, marker='+',color='b', label='Cities')\n",
        "zip_airs = zip(*airports)\n",
        "plt.scatter(*zip_airs, marker='*', color='r', s=100, label='Airports')\n",
        "plt.legend()\n",
        "plt.show()"
      ]
    },
    {
      "cell_type": "code",
      "execution_count": 39,
      "metadata": {
        "id": "UcwjXhHFuH4H"
      },
      "outputs": [],
      "source": [
        "# creating the distance function which will return the the objective distances from point1 to point 2\n",
        "\n",
        "def distance(point1, point2):     \n",
        "  return np.sqrt((point1[0]-point2[0])**2 + (point1[1]-point2[1])**2)\n",
        " \n",
        "# using this num_airports as it would be always 3 for this code but for safe side in future.\n",
        "num_airports = len(airports) \n",
        "# initial distance is always max out then will pick while comparing to it\n",
        "\n",
        "distances = [float('inf')] * len(cities)  # Initialize distances to infinity\n",
        "\n",
        "# Creating the objective function here \n",
        "def objective(airports, cities):\n",
        "    value = 0\n",
        "    # going through the loops of each airports and all cities \n",
        "    for i in range(len(airports)):\n",
        "        closest_cities = set()\n",
        "        for city in cities:\n",
        "          # counting the minimu distances from each airport and which ever is closer we can cretae a new airport, delete older  or move there the closet one.\n",
        "            closest_airport = min(airports, key=lambda x: distance(x, city))\n",
        "            if closest_airport == airports[i]:\n",
        "                closest_cities.add(city)\n",
        "        # /at last for the cities values which can be used at the gradient decent algorithum i am updating each and every values.\n",
        "        value += sum([(city[0]-airports[i][0])**2 + (city[1]-airports[i][1])**2 for city in closest_cities])\n",
        "    return value\n",
        "\n"
      ]
    },
    {
      "cell_type": "code",
      "source": [
        "# gradient descent algorithm to optimize the objective function\n",
        "alpha = 0.01 # learning rate\n",
        "num_iter = 20 # number of iterations as per class notes from professor kate \n",
        "obe_val = []\n",
        "for i in range(num_iter):\n",
        "  # dividing into steps to get better understanding of the algo\n",
        "  # firstly running throught the 20 loos as requested by prof.\n",
        "    gradients = []\n",
        "    for j in range(num_air):\n",
        "      # looping through each airoprt\n",
        "        gradient = [0, 0]\n",
        "        for city in cities:\n",
        "          # going through each citi finding the nearest airport\n",
        "            closest_airport = min(airports, key=lambda x: distance(x, city))\n",
        "            if closest_airport == airports[j]:\n",
        "              # if closet airport is the one that we have in loop then we will cheange the location i mean will update\n",
        "                gradient[0] += (airports[j][0]-city[0])\n",
        "                gradient[1] += (airports[j][1]-city[1])\n",
        "                # we will give new cordinates\n",
        "        gradients.append(gradient)\n",
        "        # going through all three airports to get the locations from one single array gradients\n",
        "    for j in range(num_air):\n",
        "        airports[j] = (airports[j][0]-alpha*gradients[j][0], airports[j][1]-alpha*gradients[j][1])\n",
        "    obj_value = objective(airports, cities)\n",
        "    # .updating the objective values which will decrease wach eateration and we can confirm by seeing at the graph plotting.\n",
        "    obe_val.append(obj_value)\n",
        "\n",
        "\n",
        "# plot the final state\n",
        "zip_cities = zip(*cities)\n",
        "plt.scatter(*zip_cities, marker='+',color='b', label='Cities')\n",
        "zip_airs = zip(*airports)\n",
        "plt.scatter(*zip_airs, marker='*', color='r', s=100, label='Airports')\n",
        "plt.legend()\n",
        "plt.show()\n",
        "# plotting the dotted graph as requested \n",
        "\n",
        "plt.plot(range(num_iter), obe_val, '.')\n",
        "plt.xlabel('Iteration')\n",
        "plt.ylabel('Objective Value')\n",
        "plt.show()\n",
        "\n",
        "\n"
      ],
      "metadata": {
        "colab": {
          "base_uri": "https://localhost:8080/",
          "height": 529
        },
        "id": "Kub3ZIFRrmAL",
        "outputId": "df926beb-0021-4e2e-8540-386fe736d6c1"
      },
      "execution_count": 40,
      "outputs": [
        {
          "output_type": "display_data",
          "data": {
            "text/plain": [
              "<Figure size 432x288 with 1 Axes>"
            ],
            "image/png": "[encoded data removed]"
          },
          "metadata": {
            "needs_background": "light"
          }
        },
        {
          "output_type": "display_data",
          "data": {
            "text/plain": [
              "<Figure size 432x288 with 1 Axes>"
            ],
            "image/png": "[encoded data removed]"
          },
          "metadata": {
            "needs_background": "light"
          }
        }
      ]
    }
  ],
  "metadata": {
    "kernelspec": {
      "display_name": "Python 3",
      "language": "python",
      "name": "python3"
    },
    "language_info": {
      "codemirror_mode": {
        "name": "ipython",
        "version": 3
      },
      "file_extension": ".py",
      "mimetype": "text/x-python",
      "name": "python",
      "nbconvert_exporter": "python",
      "pygments_lexer": "ipython3",
      "version": "3.7.9"
    },
    "colab": {
      "provenance": []
    }
  },
  "nbformat": 4,
  "nbformat_minor": 0
}